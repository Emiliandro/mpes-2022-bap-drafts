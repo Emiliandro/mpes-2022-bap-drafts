{
  "nbformat": 4,
  "nbformat_minor": 0,
  "metadata": {
    "colab": {
      "provenance": []
    },
    "kernelspec": {
      "name": "python3",
      "display_name": "Python 3"
    },
    "language_info": {
      "name": "python"
    }
  },
  "cells": [
    {
      "cell_type": "markdown",
      "source": [
        "# Installing Feed Reader"
      ],
      "metadata": {
        "id": "UliF68GW_EX2"
      }
    },
    {
      "cell_type": "code",
      "execution_count": 171,
      "metadata": {
        "colab": {
          "base_uri": "https://localhost:8080/"
        },
        "id": "wIOeNYW68WU3",
        "outputId": "accb0561-9301-40a6-dc21-73a62dd7c665"
      },
      "outputs": [
        {
          "output_type": "stream",
          "name": "stdout",
          "text": [
            "Looking in indexes: https://pypi.org/simple, https://us-python.pkg.dev/colab-wheels/public/simple/\n",
            "Requirement already satisfied: feedparser in /usr/local/lib/python3.8/dist-packages (6.0.10)\n",
            "Requirement already satisfied: sgmllib3k in /usr/local/lib/python3.8/dist-packages (from feedparser) (1.0.0)\n"
          ]
        }
      ],
      "source": [
        "!pip install feedparser"
      ]
    },
    {
      "cell_type": "code",
      "source": [
        "import feedparser as fp"
      ],
      "metadata": {
        "id": "VhRmDtGV8ph6"
      },
      "execution_count": 172,
      "outputs": []
    },
    {
      "cell_type": "markdown",
      "source": [
        "## Doing Feed Reader"
      ],
      "metadata": {
        "id": "v5J8U5sS_HWB"
      }
    },
    {
      "cell_type": "code",
      "source": [
        "# feed_example = fp.parse('http://www.reddit.com/r/python/.rss')"
      ],
      "metadata": {
        "id": "O6o7QW5t8sq1"
      },
      "execution_count": 173,
      "outputs": []
    },
    {
      "cell_type": "code",
      "source": [
        "# feed_pointer = feed_example.entries[1]"
      ],
      "metadata": {
        "id": "AHCYJcvr86DJ"
      },
      "execution_count": 174,
      "outputs": []
    },
    {
      "cell_type": "code",
      "source": [
        "# feed_pointer"
      ],
      "metadata": {
        "id": "hcm7MWZM9BaC"
      },
      "execution_count": null,
      "outputs": []
    },
    {
      "cell_type": "code",
      "source": [
        "# print (feed_pointer.link)"
      ],
      "metadata": {
        "id": "GDvFLtXp9Ih3"
      },
      "execution_count": null,
      "outputs": []
    },
    {
      "cell_type": "markdown",
      "source": [
        "## Removing HTML Tags"
      ],
      "metadata": {
        "id": "A-uBrDvb-_P9"
      }
    },
    {
      "cell_type": "code",
      "source": [
        "import re\n",
        "CLEANR = re.compile('<.*?>')"
      ],
      "metadata": {
        "id": "rWle6NUZ-SSH"
      },
      "execution_count": 177,
      "outputs": []
    },
    {
      "cell_type": "code",
      "source": [
        "def doHTMLcleanning(raw_html):\n",
        "  return re.sub(CLEANR,'',raw_html)"
      ],
      "metadata": {
        "id": "7INAvgxk-no1"
      },
      "execution_count": 178,
      "outputs": []
    },
    {
      "cell_type": "code",
      "source": [
        "# feed_pointer_cleanr = doHTMLcleanning(feed_pointer.summary)"
      ],
      "metadata": {
        "id": "Zt2XLw-H-x9f"
      },
      "execution_count": 179,
      "outputs": []
    },
    {
      "cell_type": "code",
      "source": [
        "# print(feed_pointer_cleanr[:145])"
      ],
      "metadata": {
        "id": "cTZOUzYG-6pu"
      },
      "execution_count": null,
      "outputs": []
    },
    {
      "cell_type": "markdown",
      "source": [
        "# Creating the MVP"
      ],
      "metadata": {
        "id": "3bIGF1dNre_7"
      }
    },
    {
      "cell_type": "code",
      "source": [
        "from google.colab import files\n",
        "import json"
      ],
      "metadata": {
        "id": "rwIP2_gR9xqr"
      },
      "execution_count": 207,
      "outputs": []
    },
    {
      "cell_type": "code",
      "source": [
        "from datetime import date\n",
        "from datetime import datetime\n",
        "from dateutil.parser import parse\n",
        "\n",
        "messages_generated = []\n",
        "today = str((date.today()).strftime(\"%m/%d/%Y\"))\n",
        "print(\"Today's date:\", today)"
      ],
      "metadata": {
        "colab": {
          "base_uri": "https://localhost:8080/"
        },
        "id": "bkTrJVOTw3Oz",
        "outputId": "677e338e-8843-489a-b5a1-a4266acefde7"
      },
      "execution_count": 208,
      "outputs": [
        {
          "output_type": "stream",
          "name": "stdout",
          "text": [
            "Today's date: 01/15/2023\n"
          ]
        }
      ]
    },
    {
      "cell_type": "code",
      "source": [
        "class RawMessage:\n",
        "  def __init__(self, summary, timestamp, url, tag):\n",
        "    self.summary = summary\n",
        "    self.timestamp = timestamp\n",
        "    self.url = url\n",
        "    self.tag = tag\n",
        "\n",
        "  def toJson(self): \n",
        "    return json.dumps(self, default=lambda o: o.__dict__)"
      ],
      "metadata": {
        "id": "gJmZuhre-IQ5"
      },
      "execution_count": 209,
      "outputs": []
    },
    {
      "cell_type": "code",
      "source": [
        "references = {\n",
        "    'autoesporte':['http://g1.globo.com/dynamo/carros/rss2.xml','https://noticias.r7.com/carros/feed.xml','https://esportes.r7.com/automobilismo/feed.xml'],\n",
        "    'tecnologia':['http://g1.globo.com/dynamo/tecnologia/rss2.xml', 'https://noticias.r7.com/tecnologia-e-ciencia/feed.xml'],\n",
        "    'economia':['http://g1.globo.com/dynamo/economia/rss2.xml','https://noticias.r7.com/economia/feed.xml', 'https://br.investing.com/rss/forex_Opinion.rss','https://br.investing.com/rss/market_overview_Opinion.rss'],\n",
        "    'turismo':['http://g1.globo.com/dynamo/turismo-e-viagem/rss2.xml', 'https://lifestyle.r7.com/viagens/feed.xml']\n",
        "}"
      ],
      "metadata": {
        "id": "ANd5v3Q4rj1V"
      },
      "execution_count": 210,
      "outputs": []
    },
    {
      "cell_type": "code",
      "source": [
        "for key, value in references.items() :\n",
        "    print (key, value)"
      ],
      "metadata": {
        "colab": {
          "base_uri": "https://localhost:8080/"
        },
        "id": "jVfD7yxsvj9W",
        "outputId": "b293b30b-5553-460d-b4e6-23876dacd6c5"
      },
      "execution_count": 211,
      "outputs": [
        {
          "output_type": "stream",
          "name": "stdout",
          "text": [
            "autoesporte ['http://g1.globo.com/dynamo/carros/rss2.xml', 'https://noticias.r7.com/carros/feed.xml', 'https://esportes.r7.com/automobilismo/feed.xml']\n",
            "tecnologia ['http://g1.globo.com/dynamo/tecnologia/rss2.xml', 'https://noticias.r7.com/tecnologia-e-ciencia/feed.xml']\n",
            "economia ['http://g1.globo.com/dynamo/economia/rss2.xml', 'https://noticias.r7.com/economia/feed.xml', 'https://br.investing.com/rss/forex_Opinion.rss', 'https://br.investing.com/rss/market_overview_Opinion.rss']\n",
            "turismo ['http://g1.globo.com/dynamo/turismo-e-viagem/rss2.xml', 'https://lifestyle.r7.com/viagens/feed.xml']\n"
          ]
        }
      ]
    },
    {
      "cell_type": "code",
      "source": [
        "def check_results(request_result, tag):\n",
        "  for i in request_result['entries']:\n",
        "    item_time = (i['published'])\n",
        "    date_str = parse(item_time).strftime(\"%m/%d/%Y\")\n",
        "    message_to_be_send = RawMessage(i['title'],date_str,i['link'],tag)\n",
        "    messages_generated.append(message_to_be_send)\n",
        "    #print(message_to_be_send.tag, message_to_be_send.summary, message_to_be_send.timestamp, msg.url)"
      ],
      "metadata": {
        "id": "xcoov5ldwsvv"
      },
      "execution_count": 212,
      "outputs": []
    },
    {
      "cell_type": "code",
      "source": [
        "def check_url_array(key_from_dic, tag):\n",
        "  for url_from_dic in key_from_dic:\n",
        "    print(\"requesting from\",url_from_dic,\"for tag\",tag)\n",
        "    request_fp_parte = fp.parse(url_from_dic)\n",
        "    check_results(request_fp_parte,tag)"
      ],
      "metadata": {
        "id": "cUtYSS9rwg_D"
      },
      "execution_count": 213,
      "outputs": []
    },
    {
      "cell_type": "code",
      "source": [
        "for key, value in references.items() :\n",
        "  check_url_array(value, str(key))"
      ],
      "metadata": {
        "colab": {
          "base_uri": "https://localhost:8080/"
        },
        "id": "TVV_zKdq4s-b",
        "outputId": "d55bf88d-43f1-4b66-b3c8-42a6230ef70d"
      },
      "execution_count": 214,
      "outputs": [
        {
          "output_type": "stream",
          "name": "stdout",
          "text": [
            "requesting from http://g1.globo.com/dynamo/carros/rss2.xml for tag autoesporte\n",
            "requesting from https://noticias.r7.com/carros/feed.xml for tag autoesporte\n",
            "requesting from https://esportes.r7.com/automobilismo/feed.xml for tag autoesporte\n",
            "requesting from http://g1.globo.com/dynamo/tecnologia/rss2.xml for tag tecnologia\n",
            "requesting from https://noticias.r7.com/tecnologia-e-ciencia/feed.xml for tag tecnologia\n",
            "requesting from http://g1.globo.com/dynamo/economia/rss2.xml for tag economia\n",
            "requesting from https://noticias.r7.com/economia/feed.xml for tag economia\n",
            "requesting from https://br.investing.com/rss/forex_Opinion.rss for tag economia\n",
            "requesting from https://br.investing.com/rss/market_overview_Opinion.rss for tag economia\n",
            "requesting from http://g1.globo.com/dynamo/turismo-e-viagem/rss2.xml for tag turismo\n",
            "requesting from https://lifestyle.r7.com/viagens/feed.xml for tag turismo\n"
          ]
        }
      ]
    },
    {
      "cell_type": "code",
      "source": [
        "x = json.dumps ('test')\n",
        "y = x.encode('utf-8')\n",
        "\n",
        "with open('generated_messages_for_activity.txt', 'w') as f:  \n",
        "  for msg in messages_generated:\n",
        "    f.write(str(msg.toJson()))\n",
        "    print(msg.tag, msg.summary, msg.timestamp, msg.url)"
      ],
      "metadata": {
        "colab": {
          "base_uri": "https://localhost:8080/"
        },
        "id": "bN4rWCTe_KwA",
        "outputId": "a19cfcf3-5ba8-4b63-f84c-ce35e8a4daa8"
      },
      "execution_count": 216,
      "outputs": [
        {
          "output_type": "stream",
          "name": "stdout",
          "text": [
            "autoesporte Sorrir em fotos para documentos é ou não é permitido? Confira as regras 01/13/2023 https://g1.globo.com/es/espirito-santo/noticia/2023/01/13/sorrir-em-fotos-para-documentos-e-ou-nao-e-permitido-confira-as-regras.ghtml\n",
            "autoesporte SineBahia divulga oportunidades de emprego para Ilhéus nesta segunda-feira; veja lista 04/11/2022 https://g1.globo.com/carros/blog/denis-marum/noticia/2022/04/11/sinebahia-divulga-oportunidades-de-emprego-para-ilheus-nesta-segunda-feira-veja-lista.ghtml\n",
            "autoesporte Toyota suspende produção no interior de SP por falta de insumos 03/09/2022 https://g1.globo.com/sp/sorocaba-jundiai/noticia/2022/03/09/toyota-suspende-temporariamente-a-producao-no-interior-de-sp-por-falta-de-insumos.ghtml\n",
            "autoesporte Motoristas de caminhão, ônibus e van  sem exame toxicológico em dia vão levar multa de R$ 1.467, alerta Detran 11/11/2021 https://g1.globo.com/pe/pernambuco/noticia/2021/11/11/motoristas-de-caminhao-onibus-e-van-sem-exame-toxicologico-em-dia-vao-levar-multa-de-r-1467-alerta-detran.ghtml\n",
            "autoesporte Primeiro 'UTV' do Brasil com a tecnologia do nióbio é criado em parceria com empresa de Araxá 05/27/2021 https://g1.globo.com/mg/triangulo-mineiro/noticia/2021/05/27/primeiro-utv-do-brasil-com-a-tecnologia-do-niobio-e-criado-em-parceria-com-empresa-de-araxa.ghtml\n",
            "autoesporte Produção de motos no Polo Industrial de Manaus fecha março com alta de 116,4% 04/14/2021 https://g1.globo.com/am/amazonas/noticia/2021/04/14/producao-de-motos-no-polo-industrial-de-manaus-fecha-fevereiro-com-alta-de-1164percent.ghtml\n",
            "autoesporte Mercedes-Benz retoma produção, após folga para diminuir circulação de pessoas na pandemia em Juiz de Fora 04/05/2021 https://g1.globo.com/mg/zona-da-mata/noticia/2021/04/05/atividades-produtivas-retomam-na-mercedes-benz-em-juiz-de-fora.ghtml\n",
            "autoesporte Renault paralisa produção em fábrica de São José dos Pinhais por causa da pandemia da Covid-19 03/25/2021 https://g1.globo.com/pr/parana/noticia/2021/03/25/renault-paralisa-producao-em-fabrica-de-sao-jose-dos-pinhais-por-causa-da-pandemia-da-covid-19.ghtml\n",
            "autoesporte GM anuncia layoff para 600 funcionários em São José dos Campos 03/01/2021 https://g1.globo.com/sp/vale-do-paraiba-regiao/noticia/2021/03/01/gm-anuncia-layoff-para-600-funcionarios-em-sao-jose-dos-campos-diz-sindicato.ghtml\n",
            "autoesporte IPVA 2021 no Ceará: veja calendário de parcelamento 02/02/2021 https://g1.globo.com/ce/ceara/noticia/2021/02/02/ipva-2021-no-ceara-veja-calendario-de-parcelamento.ghtml\n",
            "autoesporte Boleto do IPVA no Ceará já pode ser emitido e pago 01/04/2021 https://g1.globo.com/ce/ceara/noticia/2021/01/04/boleto-do-ipva-no-ceara-ja-pode-ser-emitido-e-pago.ghtml\n",
            "autoesporte Sefaz-PI divulga calendário de pagamento do IPVA 2021; 15% para cota única em janeiro 12/29/2020 https://g1.globo.com/pi/piaui/noticia/2020/12/29/sefaz-pi-divulga-calendario-de-pagamento-do-ipva-2021-15percent-para-cota-unica-em-janeiro.ghtml\n",
            "autoesporte IPVA no Ceará terá redução média de 4,95% em 2021 12/29/2020 https://g1.globo.com/ce/ceara/noticia/2020/12/29/ipva-no-ceara-tera-reducao-media-de-495percent-em-2021.ghtml\n",
            "autoesporte Cresce volume de empréstimos para pessoas físicas, aponta Banco Central 11/27/2020 https://g1.globo.com/economia/noticia/2020/11/27/credito-para-veiculos-bate-recorde-e-operacoes-com-cartao-de-credito-a-vista-voltam-ao-patamar-pre-pandemia-diz-bc.ghtml\n",
            "autoesporte Ford conclui venda de fábrica em São Bernardo do Campo um ano após fechar unidade no ABC paulista 10/31/2020 https://g1.globo.com/sp/sao-paulo/noticia/2020/10/31/ford-conclui-venda-de-fabrica-em-sao-bernardo-do-campo-um-ano-apos-fechar-unidade-no-abc-paulista.ghtml\n",
            "autoesporte Programa de Demissão Voluntária da GM tem adesão de 60 funcionários em São José, diz sindicato 10/27/2020 https://g1.globo.com/sp/vale-do-paraiba-regiao/noticia/2020/10/27/programa-de-demissao-voluntaria-da-gm-tem-adesao-de-60-funcionarios-em-sao-jose-diz-sindicato.ghtml\n",
            "autoesporte Reveja seus conceitos sobre um sedan: prepare-se para conhecer o Novo Nissan Versa 10/23/2020 https://g1.globo.com/carros/especial-publicitario/nissan/noticia/2020/10/23/reveja-seus-conceitos-sobre-um-sedan-prepare-se-para-conhecer-o-novo-nissan-versa.ghtml\n",
            "autoesporte Bolsonaro sanciona lei que altera regras do Código de Trânsito 10/13/2020 https://g1.globo.com/politica/noticia/2020/10/13/bolsonaro-sanciona-texto-que-altera-regras-do-codigo-de-transito.ghtml\n",
            "autoesporte Acidentes em estradas federais deixam 75 mortos no feriado de Nossa Senhora Aparecida 10/13/2020 https://g1.globo.com/df/distrito-federal/noticia/2020/10/13/acidentes-em-estradas-federais-deixam-75-mortos-no-feriado-de-nossa-senhora-aparecida.ghtml\n",
            "autoesporte GM anuncia novo PDV e retorno de segundo turno da S10 em São José 10/06/2020 https://g1.globo.com/sp/vale-do-paraiba-regiao/noticia/2020/10/06/gm-anuncia-novo-pdv-e-retorno-de-segundo-turno-da-s10-em-sao-jose.ghtml\n",
            "autoesporte Câmara aprova MP que amplia prazo para indústria automotiva se candidatar a incentivo fiscal 09/29/2020 https://g1.globo.com/economia/noticia/2020/09/29/camara-aprova-mp-que-amplia-prazo-para-industria-automotiva-se-candidatar-a-incentivo-fiscal.ghtml\n",
            "autoesporte Ford anuncia Programa de Demissão Voluntária na fábrica de Camaçari, na Bahia 09/28/2020 https://g1.globo.com/ba/bahia/noticia/2020/09/28/ford-anuncia-programa-de-demissao-voluntaria-na-fabrica-de-camacari-na-bahia.ghtml\n",
            "autoesporte Volkswagen faz acordo com MPF para reparar violações dos direitos humanos durante a ditadura 09/23/2020 https://g1.globo.com/economia/noticia/2020/09/23/volkswagen-vai-indenizar-funcionarios-vitimas-da-ditadura-no-brasil.ghtml\n",
            "autoesporte Câmara aprova emendas do Senado, e mudanças no Código de Trânsito seguem para sanção 09/22/2020 https://g1.globo.com/politica/noticia/2020/09/22/camara-aprova-emendas-do-senado-a-projeto-que-altera-codigo-de-transito.ghtml\n",
            "autoesporte GM demite 43 funcionários aposentados e com doenças ocupacionais em São José, diz sindicato 09/21/2020 https://g1.globo.com/sp/vale-do-paraiba-regiao/noticia/2020/09/21/gm-demite-43-funcionarios-aposentados-e-com-doencas-ocupacionais-diz-sindicato.ghtml\n",
            "autoesporte Toyota anuncia transferência da sede administrativa para Sorocaba 09/21/2020 https://g1.globo.com/sp/sorocaba-jundiai/noticia/2020/09/21/toyota-anuncia-transferencia-da-sede-administrativa-para-sorocaba.ghtml\n",
            "autoesporte Funcionários da Volkswagen de São Carlos aprovam estabilidade e plano de demissão voluntária 09/17/2020 https://g1.globo.com/sp/sao-carlos-regiao/noticia/2020/09/17/funcionarios-da-volkswagen-de-sao-carlos-aprovam-estabilidade-e-plano-de-demissao-voluntaria.ghtml\n",
            "autoesporte Funcionários da Volkswagen em São José dos Pinhais aprovam proposta de estabilidade por 5 anos e plano de demissão voluntária 09/17/2020 https://g1.globo.com/pr/parana/noticia/2020/09/17/funcionarios-da-volkswagen-em-sao-jose-dos-pinhais-aprovam-proposta-de-estabilidade-por-5-anos-e-plano-de-demissao-voluntaria.ghtml\n",
            "autoesporte Trabalhadores da Volks de Taubaté aprovam proposta de estabilidade por 5 anos e plano de demissão voluntária 09/16/2020 https://g1.globo.com/sp/vale-do-paraiba-regiao/noticia/2020/09/16/trabalhadores-da-volks-de-taubate-aprovam-proposta-de-estabilidade-por-5-anos-e-plano-de-demissao-voluntaria.ghtml\n",
            "autoesporte Motorista em acidente fatal de carro autônomo do Uber é acusada de homicídio nos EUA 09/16/2020 https://g1.globo.com/economia/tecnologia/noticia/2020/09/16/motorista-em-acidente-fatal-de-carro-autonomo-do-uber-e-acusado-de-homicidio-nos-eua.ghtml\n",
            "autoesporte Programa de Demissão Voluntária da GM tem adesão de 235 funcionários em São José, diz sindicato 09/15/2020 https://g1.globo.com/sp/vale-do-paraiba-regiao/noticia/2020/09/15/programa-de-demissao-voluntaria-da-gm-tem-adesao-de-235-funcionarios-em-sao-jose-diz-sindicato.ghtml\n",
            "autoesporte Tiggo 8 conquista os brasileiros com espaço, conforto e tecnologia 09/15/2020 https://g1.globo.com/carros/especial-publicitario/caoa-chery/noticia/2020/09/15/tiggo-8-conquista-os-brasileiros-com-espaco-conforto-e-tecnologia.ghtml\n",
            "autoesporte Produção de motos no Polo Industrial de Manaus tem queda de 20,9% em oito meses 09/10/2020 https://g1.globo.com/am/amazonas/noticia/2020/09/10/producao-de-motos-no-polo-industrial-de-manaus-tem-queda-de-209percent-em-oito-meses.ghtml\n",
            "autoesporte GM encerra prazo para adesão a PDV na fábrica de São José dos Campos 09/10/2020 https://g1.globo.com/sp/vale-do-paraiba-regiao/noticia/2020/09/10/gm-encerra-prazo-para-adesao-a-pdv-na-fabrica-de-sao-jose-dos-campos.ghtml\n",
            "autoesporte Senado aprova projeto que aumenta validade da CNH para até 10 anos 09/03/2020 https://g1.globo.com/politica/noticia/2020/09/03/senado-aprova-texto-base-de-projeto-que-aumenta-para-10-anos-validade-da-cnh.ghtml\n",
            "autoesporte Produção industrial cresce 8% em julho, mas ainda não elimina perdas com pandemia 09/03/2020 https://g1.globo.com/economia/noticia/2020/09/03/producao-industrial-cresce-em-8percent-em-julho-diz-ibge.ghtml\n",
            "autoesporte De onde vem o que eu como: à frente dos carros, máquinas agrícolas já estão próximas da autonomia completa 09/02/2020 https://g1.globo.com/economia/agronegocios/agro-a-industria-riqueza-do-brasil/noticia/2020/09/02/de-onde-vem-o-que-eu-como-a-frente-dos-carros-maquinas-agricolas-ja-estao-proximas-da-autonomia-completa.ghtml\n",
            "autoesporte Elon Musk ultrapassa Zuckerberg e se torna o terceiro homem mais rico do mundo, diz revista 09/01/2020 https://g1.globo.com/economia/tecnologia/noticia/2020/09/01/elon-musk-ultrapassa-zuckerberg-e-se-torna-o-terceiro-homem-mais-rico-do-mundo-diz-revista.ghtml\n",
            "autoesporte Com atraso em projetos, Volkswagen diz que tenta adiar demissões no Brasil 08/28/2020 https://g1.globo.com/pr/parana/economia/noticia/2020/08/28/com-atraso-em-projetos-volkswagen-diz-que-tenta-adiar-demissoes-no-brasil.ghtml\n",
            "autoesporte Venda de carros com desconto para pessoas com deficiência cresce 247% em 3 anos em SP 08/26/2020 https://g1.globo.com/sp/sao-paulo/noticia/2020/08/26/venda-de-carros-com-desconto-para-pessoas-com-deficiencia-cresce-249percent-em-3-anos-no-estado-de-sp.ghtml\n",
            "autoesporte HB20 dominou as vendas de hatches em 2022; veja o top 10 01/14/2023 http://noticias.r7.com/carros/hb20-dominou-as-vendas-de-hatches-em-2022-veja-o-top-10-14012023\n",
            "autoesporte Mercedes-AMG SL63 fica com cara de F1: veja os detalhes 01/13/2023 http://noticias.r7.com/carros/mercedes-amg-sl63-fica-com-cara-de-f1-veja-os-detalhes-13012023\n",
            "autoesporte Triumph Bonneville T100 ganha nova cor e sai por R$ 56 mil 01/13/2023 http://noticias.r7.com/carros/triumph-bonneville-t100-ganha-nova-cor-e-sai-por-r-56-mil-13012023\n",
            "autoesporte Vendas de veículos importados têm queda de 16,9% em 2022, diz Abeifa 01/13/2023 http://noticias.r7.com/carros/vendas-de-veiculos-importados-tem-queda-de-169-em-2022-diz-abeifa-13012023\n",
            "autoesporte Volvo EX30: Protótipos filmados durante testes na China 01/13/2023 https://guiaauto.com.br/volvo-ex30-prototipos-filmados-durante-testes-na-china/\n",
            "autoesporte Suzuki mostra Jimny híbrido e com 4 portas na Índia 01/13/2023 http://noticias.r7.com/carros/suzuki-mostra-jimny-hibrido-e-com-4-portas-na-india-13012023\n",
            "autoesporte Subaru Impreza STI recebe atualização mais esportiva 01/13/2023 https://guiaauto.com.br/subaru-impreza-sti-recebe-atualizacao-mais-esportiva/\n",
            "autoesporte Toyota revela conceitos agressivos e seu amor pela WRC 01/13/2023 https://guiaauto.com.br/toyota-revela-conceitos-agressivos-e-seu-amor-pela-wrc/\n",
            "autoesporte Linha 2023 da Fiat Toro fica mais cara e perde versão; veja os preços 01/13/2023 http://noticias.r7.com/carros/linha-2023-da-fiat-toro-fica-mais-cara-e-perde-versao-veja-os-precos-13012023\n",
            "autoesporte Com carro defasado, Di Grassi crava a pole e conquista 40º pódio na Fórmula E 01/14/2023 https://www.autoracing.com.br/com-carro-defasado-di-grassi-crava-a-pole-e-conquista-40o-podio-na-formula-e/\n",
            "autoesporte Dakar termina neste domingo com Bruno Conti/Bianchi Prata no Top6 dos UTVs T4 01/14/2023 https://www.autoracing.com.br/dakar-termina-neste-domingo-com-bruno-conti-bianchi-prata-no-top6-dos-utvs-t4/\n",
            "autoesporte Jake Dennis vence a primeira etapa da Fórmula E em 2023 01/14/2023 https://www.autoracing.com.br/jake-dennis-vence-a-primeira-etapa-da-formula-e-em-2023/\n",
            "autoesporte Verstappen brinca: “Acho que minha namorada não gostaria disso” 01/14/2023 https://www.autoracing.com.br/verstappen-brinca-acho-que-minha-namorada-nao-gostaria-disso/\n",
            "autoesporte Hamilton grato: “Uma das poucas pessoas que realmente me suportam” 01/14/2023 https://www.autoracing.com.br/hamilton-grato-uma-das-poucas-pessoas-que-realmente-me-suportam/\n",
            "autoesporte Russell reage com brincadeira à troca de Vowles 01/14/2023 https://www.autoracing.com.br/russell-reage-com-brincadeira-a-troca-de-vowles/\n",
            "autoesporte Di Grassi surpreende com pole em carro “pouco desenvolvido” na Fórmula E 01/14/2023 https://www.autoracing.com.br/di-grassi-surpreende-com-pole-em-carro-pouco-desenvolvido-na-formula-e/\n",
            "autoesporte Rally Dakar 2023 – Penúltima etapa dá adeus ao deserto Empty Quarter 01/14/2023 https://www.autoracing.com.br/rally-dakar-2023-penultima-etapa-da-adeus-ao-deserto-empty-quarter/\n",
            "autoesporte Stock Car: AMattheis Vogel terá Lucas Foresti como piloto para 2023 01/14/2023 https://www.autoracing.com.br/stock-car-amattheis-vogel-tera-lucas-foresti-como-piloto-para-2023/\n",
            "tecnologia Como está sendo feita a primeira 'impressão' 3D de casa com dois andares dos EUA 01/14/2023 https://g1.globo.com/inovacao/noticia/2023/01/14/como-esta-sendo-feita-a-primeira-impressao-de-casa-com-dois-andares-dos-eua.ghtml\n",
            "tecnologia Monark e Nikolas Ferreira têm contas retidas no Twitter por decisão judicial 01/13/2023 https://g1.globo.com/tecnologia/noticia/2023/01/13/monark-tem-conta-no-twitter-retida-por-decisao-judicial.ghtml\n",
            "tecnologia As fotos da Starship, nave que a SpaceX vai usar em viagens ao redor da Lua 01/13/2023 https://g1.globo.com/inovacao/noticia/2023/01/13/as-fotos-da-starship-nave-que-a-spacex-vai-usar-em-viagens-ao-redor-da-lua.ghtml\n",
            "tecnologia Bill Gates sobre robô ChatGPT: 'Estou impressionado com o nível de inovação' 01/12/2023 https://g1.globo.com/tecnologia/noticia/2023/01/12/bill-gates-sobre-robo-chatgpt-estou-impressionado-com-o-nivel-de-inovacao.ghtml\n",
            "tecnologia Venda de PCs registra forte queda em 2022 01/12/2023 https://g1.globo.com/tecnologia/noticia/2023/01/12/venda-de-pcs-registra-forte-queda-em-2022.ghtml\n",
            "tecnologia Divulgação dos participantes do BBB 23 gera memes nas redes sociais 01/12/2023 https://g1.globo.com/tecnologia/noticia/2023/01/12/divulgacao-dos-participantes-do-bbb-23-rende-meme-nas-redes-sociais.ghtml\n",
            "tecnologia Grupo usado por mulher apontada como organizadora de atos terroristas em Brasília é bloqueado 01/12/2023 https://g1.globo.com/tecnologia/noticia/2023/01/12/grupo-organizadora-atos-terroristas.ghtml\n",
            "tecnologia Google Meet começa a liberar reações com emojis; veja como usar 01/12/2023 https://g1.globo.com/tecnologia/noticia/2023/01/12/google-meet-comeca-a-liberar-reacoes-com-emojis-veja-como-usar.ghtml\n",
            "tecnologia Elon Musk bate recorde mundial de perda de fortuna 01/12/2023 https://g1.globo.com/tecnologia/noticia/2023/01/12/elon-musk-bate-recorde-mundial-de-perda-de-fortuna.ghtml\n",
            "tecnologia Assinar documento com apps é permitido no Brasil? Entenda 01/12/2023 https://g1.globo.com/tecnologia/noticia/2023/01/12/entenda-se-assinar-documento-com-apps-e-permitido-no-brasil.ghtml\n",
            "tecnologia Criadora do robô ChatGPT planeja lançar versão paga para uso profissional 01/11/2023 https://g1.globo.com/tecnologia/noticia/2023/01/11/criadora-do-robo-chatgpt-planeja-lancar-versao-paga-para-uso-profissional.ghtml\n",
            "tecnologia Meta proíbe anúncios direcionados a adolescentes com base em gênero 01/11/2023 https://g1.globo.com/tecnologia/noticia/2023/01/11/meta-proibe-anuncios-direcionados-a-adolescentes-com-base-em-genero.ghtml\n",
            "tecnologia YouTube vai monetizar vídeos do Shorts a partir de 1º de fevereiro 01/10/2023 https://g1.globo.com/tecnologia/noticia/2023/01/10/youtube-vai-monetizar-videos-dos-shorts-a-partir-do-dia-1o-de-fevereiro.ghtml\n",
            "tecnologia Lojas da Apple e do Google são inundadas com apps falsos do ChatGPT 01/10/2023 https://g1.globo.com/tecnologia/noticia/2023/01/10/lojas-da-apple-e-do-google-sao-inundadas-com-apps-falsos-do-chatgpt.ghtml\n",
            "tecnologia Como startup da Embraer quer fazer futuras viagens de 'carro voador' serem mais baratas 01/10/2023 https://g1.globo.com/inovacao/noticia/2023/01/10/como-startup-da-embraer-quer-fazer-futuras-viagens-de-carro-voador-serem-mais-baratas.ghtml\n",
            "tecnologia Conteúdo extremista continua nas redes sociais mais de 24 horas depois de atos de terrorismo em Brasília 01/09/2023 https://g1.globo.com/tecnologia/noticia/2023/01/09/conteudo-extremista-continua-nas-redes-sociais-mais-de-24-horas-depois-de-atos-de-terrorismo-em-brasilia.ghtml\n",
            "tecnologia Suprema Corte dos EUA permite que WhatsApp processe empresa de Israel por espionagem no app 01/09/2023 https://g1.globo.com/tecnologia/noticia/2023/01/09/suprema-corte-dos-eua-permite-que-whatsapp-processe-empresa-de-israel-por-espionagem-no-app.ghtml\n",
            "tecnologia Microsoft planeja introduzir ChatGPT no Word, Outlook e PowerPoint, diz site 01/09/2023 https://g1.globo.com/tecnologia/noticia/2023/01/09/microsoft-planeja-introduzir-chatgpt-no-word-outlook-e-powerpoint-diz-site.ghtml\n",
            "tecnologia Perfis nas redes sociais ajudam a identificar participantes de atos terroristas praticados por grupos bolsonaristas em Brasília 01/09/2023 https://g1.globo.com/tecnologia/noticia/2023/01/09/perfis-nas-redes-sociais-ajudam-a-identificar-participantes-de-atos-terroristas-praticados-por-grupos-bolsonaristas-em-brasilia.ghtml\n",
            "tecnologia Meta vai bloquear conteúdo pró-invasão em Brasília das redes sociais 01/09/2023 https://g1.globo.com/tecnologia/noticia/2023/01/09/meta-vai-bloquear-conteudo-pro-invasao-em-brasilia-das-redes-sociais.ghtml\n",
            "tecnologia 42% dos profissionais de startups não têm plano de cargos e salários, mostra pesquisa 01/08/2023 https://g1.globo.com/trabalho-e-carreira/noticia/2023/01/08/42percent-dos-profissionais-de-startups-nao-tem-plano-de-cargos-e-salarios-mostra-pesquisa.ghtml\n",
            "tecnologia Twitter demite ao menos 12 pessoas de equipes de moderação de conteúdo 01/07/2023 https://g1.globo.com/tecnologia/noticia/2023/01/07/twitter-demite-ao-menos-12-pessoas-de-equipes-de-moderacao-de-conteudo.ghtml\n",
            "tecnologia O que fez Elon Musk se tornar o primeiro a perder US$ 200 bilhões de fortuna? 01/07/2023 https://g1.globo.com/tecnologia/noticia/2023/01/07/o-que-fez-elon-musk-se-tornar-o-primeiro-a-perder-us-200-bilhoes-de-fortuna.ghtml\n",
            "tecnologia Estilo repetido, falta de citações, 'enrolation'.... professores descobrem falhas em textos do robô ChatGPT, mas elogiam novidade 01/07/2023 https://g1.globo.com/tecnologia/noticia/2023/01/07/estilo-repetido-falta-de-citacoes-enrolation-professores-descobrem-falhas-em-textos-do-robo-chatgpt-mas-elogiam-novidade.ghtml\n",
            "tecnologia Robô 'ChatGPT' escreve redação do Enem em 50 segundos; saiba quanto ele tiraria na prova 01/07/2023 https://g1.globo.com/educacao/noticia/2023/01/07/robo-chatgpt-escreve-redacao-do-enem-em-50-segundos-saiba-quanto-ele-tiraria-na-prova.ghtml\n",
            "tecnologia ONU cita Twitter sobre Musk em alerta contra discurso de ódio nas redes sociais 01/06/2023 https://g1.globo.com/tecnologia/noticia/2023/01/06/onu-cita-twitter-sobre-musk-em-alerta-contra-discurso-de-odio-nas-redes-sociais.ghtml\n",
            "tecnologia Samsung prevê queda no lucro trimestral para mínima de 8 anos 01/06/2023 https://g1.globo.com/tecnologia/noticia/2023/01/06/samsung-preve-queda-no-lucro-trimestral-para-minima-de-8-anos.ghtml\n",
            "tecnologia Multas milionárias colocam modelo econômico da Meta na Europa à prova 01/06/2023 https://g1.globo.com/tecnologia/noticia/2023/01/06/multas-milionarias-colocam-modelo-economico-da-meta-na-europa-a-prova.ghtml\n",
            "tecnologia Twitter foi hackeado e endereços de e-mails de 200 milhões de usuários vazaram, diz pesquisador 01/06/2023 https://g1.globo.com/tecnologia/noticia/2023/01/06/twitter-foi-hackeado-e-enderecos-de-email-de-200-mi-de-usuarios-vazaram-diz-pesquisador.ghtml\n",
            "tecnologia Spotify lança 'playlist do futuro' que só será ouvida em 2024; veja como fazer 01/05/2023 https://g1.globo.com/tecnologia/noticia/2023/01/05/spotify-lanca-playlist-do-futuro-que-so-sera-ouvida-em-2024-veja-como-fazer.ghtml\n",
            "tecnologia WhatsApp age para manter uso do app mesmo que conexão seja bloqueada ou interrompida 01/05/2023 https://g1.globo.com/tecnologia/noticia/2023/01/05/whatsapp-anuncia-suporte-a-servidor-que-derruba-restricoes-de-acesso-a-internet.ghtml\n",
            "tecnologia Impressora de maquiagem, carro da Sony e TV 'sem fio': os destaques do primeiro dia da CES 2023 01/05/2023 https://g1.globo.com/inovacao/noticia/2023/01/05/os-destaques-da-ces-2023-maior-feira-de-tecnologia-do-mundo.ghtml\n",
            "tecnologia 'Big techs' perdem quase US$ 4 trilhões em valor de mercado em 1 ano 01/05/2023 https://g1.globo.com/tecnologia/noticia/2023/01/05/big-techs-perdem-quase-us-4-trilhoes-em-valor-de-mercado-em-1-ano.ghtml\n",
            "tecnologia Amazon diz que onda de demissões vai atingir mais de 18 mil funcionários 01/05/2023 https://g1.globo.com/tecnologia/noticia/2023/01/05/amazon-demissao.ghtml\n",
            "tecnologia Escolas públicas de Nova York banem robô ChatGPT contra 'cola' de alunos 01/05/2023 https://g1.globo.com/tecnologia/noticia/2023/01/05/escolas-publicas-banem-robo-chatgpt-contra-cola-de-alunos.ghtml\n",
            "tecnologia Twitter planeja aumentar espaço para publicidade política 01/04/2023 https://g1.globo.com/tecnologia/noticia/2023/01/04/twitter-planeja-aumentar-espaco-para-publicidade-politica.ghtml\n",
            "tecnologia Microsoft prepara versão de buscador Bing baseada no robô ChatGPT para desafiar Google, diz site 01/04/2023 https://g1.globo.com/tecnologia/noticia/2023/01/04/microsoft-bing-chatgpt-google.ghtml\n",
            "tecnologia Meta é multada em US$ 414 milhões na Europa por forçar anúncios personalizados 01/04/2023 https://g1.globo.com/tecnologia/noticia/2023/01/04/meta-e-multada-em-us-414-milhoes-na-europa-por-forcar-anuncios-personalizados.ghtml\n",
            "tecnologia Almofada robótica, mesa de bicicleta e 'tradutor' de bebês: as inovações reveladas na CES 2023 01/04/2023 https://g1.globo.com/inovacao/noticia/2023/01/04/almofada-robotica-mesa-de-bicicleta-e-mais-as-inovacoes-reveladas-na-ces-2023.ghtml\n",
            "tecnologia Salesforce, dona do Slack, vai demitir 10% dos funcionários e fechar alguns escritórios 01/04/2023 https://g1.globo.com/tecnologia/noticia/2023/01/04/salesforce-dona-do-slack-vai-demitir-10percent-dos-funcionarios-e-fechar-alguns-escritorios.ghtml\n",
            "tecnologia Robô advogado: a inteligência artificial irá advogar a favor de um réu; entenda 01/14/2023 https://capitalist.com.br/robo-advogado-inteligencia-artificial-ira-advogar-a-favor-de-um-reu/\n",
            "tecnologia Utilizades escondidas: veja 5 dicas para aproveitar ao máximo a câmera do seu iPhone 01/14/2023 https://multiversonoticias.com.br/veja-como-aproveitar-ao-maximo-a-camera-do-seu-iphone/\n",
            "tecnologia TikTok lança nova ferramenta que visa alavancar patrocínios 01/14/2023 https://lorena.r7.com/post/TikTok-lanca-nova-ferramenta-que-visa-alavancar-patrocinios\n",
            "tecnologia EUA elimina entrevista para visto americano; veja quem está liberado 01/14/2023 https://www.tecmundo.com.br/mercado/259208-eua-elimina-entrevista-visto-americano-veja-liberado.htm\n",
            "tecnologia Roku: serviço ultrapassa 70 milhões de usuários ativos no mundo 01/14/2023 https://www.tecmundo.com.br/mercado/259218-roku-servico-ultrapassa-70-milhoes-usuarios-ativos-mundo.htm\n",
            "tecnologia WhatsApp de cara nova? Mensageiro pode lançar nova interface 01/14/2023 https://editalconcursosbrasil.com.br/noticias/2023/01/whatsapp-de-cara-nova-mensageiro-pode-lancar-nova-interface/\n",
            "tecnologia Ocorrências relativas ao Sol batem recorde na 2ª semana de janeiro 01/14/2023 https://multiversonoticias.com.br/ocorrencias-solares-batem-recorde-na-2a-semana-de-janeiro/\n",
            "tecnologia Qual seu Windows? 2 versões ficarão de fora da próxima atualização 01/14/2023 https://editalconcursosbrasil.com.br/noticias/2023/01/qual-seu-windows-2-versoes-ficarao-de-fora-da-proxima-atualizacao/\n",
            "tecnologia Astrônomos encontraram estrela de nêutrons gigante que durou milissegundos 01/14/2023 https://www.tecmundo.com.br/ciencia/259171-astronomos-encontraram-estrela-neutrons-gigante-durou-milissegundos.htm\n",
            "economia Governo Lula enviará missão para iniciar processo de reabertura da embaixada na Venezuela 01/15/2023 https://g1.globo.com/economia/blog/ana-flor/post/2023/01/14/governo-lula-enviara-missao-para-iniciar-processo-de-reabertura-da-embaixada-na-venezuela.ghtml\n",
            "economia Campinas nega recursos de Viracopos e mantém cobrança de IPTU para estacionamento, lojas e serviços; entenda impasse 01/14/2023 https://g1.globo.com/sp/campinas-regiao/noticia/2023/01/14/campinas-nega-recursos-de-viracopos-e-mantem-cobranca-de-iptu-para-estacionamento-lojas-e-servicos-entenda-impasse.ghtml\n",
            "economia Mogi Guaçu abre concurso público com 17 vagas nas áreas da educação, engenharia e saúde 01/14/2023 https://g1.globo.com/sp/campinas-regiao/concursos-e-emprego/noticia/2023/01/14/mogi-guacu-abre-concurso-publico-com-17-vagas-nas-areas-da-educacao-engenharia-e-saude.ghtml\n",
            "economia Pela segunda vez em oito meses, PCO tem perfil no Twitter bloqueado 01/14/2023 https://g1.globo.com/economia/tecnologia/noticia/2023/01/14/pela-segunda-vez-em-oito-meses-pco-tem-perfil-no-twitter-bloqueado.ghtml\n",
            "economia Dívida da Americanas pode chegar a R$ 40 bi, segundo juiz, e pedido de tutela judicial é acolhido; entenda o caso 01/14/2023 https://g1.globo.com/economia/noticia/2023/01/14/americanas-diz-que-valor-de-dividas-pode-chegar-a-r-40-bi-e-pedido-de-tutela-judicial-e-acolhido-entenda-o-caso.ghtml\n",
            "economia O país onde a cebola é mais cara que a carne 01/14/2023 https://g1.globo.com/mundo/noticia/2023/01/14/o-pais-onde-a-cebola-e-mais-cara-que-a-carne.ghtml\n",
            "economia Veja os destaques do Globo Rural deste domingo (15/01/2023) 01/14/2023 https://g1.globo.com/economia/agronegocios/globo-rural/noticia/2023/01/14/veja-os-destaques-do-globo-rural-deste-domingo-15012023.ghtml\n",
            "economia Caixa suspende empréstimo consignado do Auxílio Brasil; entenda 01/14/2023 https://g1.globo.com/economia/noticia/2023/01/14/caixa-suspende-emprestimo-consignado-do-auxilio-brasil-entenda.ghtml\n",
            "economia Juiz concede proteção de bens e dá prazo de 30 dias para Americanas avaliar recuperação judicial 01/14/2023 https://g1.globo.com/economia/noticia/2023/01/13/juiz-concede-protecao-de-bens-e-da-30-dias-para-americanas-avaliar-recuperacao-judicial.ghtml\n",
            "economia Mercado Livre é novo patrocinador do BBB 23 01/13/2023 https://g1.globo.com/economia/midia-e-marketing/noticia/2023/01/13/mercado-livre-e-novo-patrocinador-do-bbb-23.ghtml\n",
            "economia Ações da Americanas sobem mais de 15% após queda histórica na véspera 01/13/2023 https://g1.globo.com/economia/noticia/2023/01/13/acoes-da-americanas-sobem-apos-queda-historica-na-vespera.ghtml\n",
            "economia Preço da gasolina nos postos cai a R$ 5,04 o litro, mostra ANP 01/13/2023 https://g1.globo.com/economia/noticia/2023/01/13/preco-da-gasolina-cai-a-r-504-o-litro-mostra-anp.ghtml\n",
            "economia Americanas: veja o glossário do caso e entenda termos como ‘forfait’, ‘covenants’ e ‘debêntures’ 01/13/2023 https://g1.globo.com/economia/noticia/2023/01/13/americanas-veja-o-glossario-do-caso-e-entenda-termos-como-forfait-covenants-e-debentures.ghtml\n",
            "economia Duas semanas após deixar Presidência, Jair Bolsonaro altera descrição em perfis nas redes sociais 01/13/2023 https://g1.globo.com/politica/noticia/2023/01/13/duas-semanas-apos-deixar-presidencia-jair-bolsonaro-altera-descricao-em-perfis-nas-redes-sociais.ghtml\n",
            "economia Procon-SP notifica Americanas 01/13/2023 https://g1.globo.com/economia/noticia/2023/01/13/procon-sp-notifica-americanas.ghtml\n",
            "economia Broa de fubá, biscoito de polvilho, virado de banana: veja como fazer receitas mineiras tradicionais 01/13/2023 https://g1.globo.com/economia/agronegocios/globo-rural/receitas/noticia/2023/01/13/broa-de-fuba-biscoito-de-polvilho-virado-de-banana-veja-como-fazer-receitas-mineiras-tradicionais.ghtml\n",
            "economia Ações da Americanas sobem mais de 15% após queda histórica da véspera 01/13/2023 https://g1.globo.com/economia/noticia/2023/01/13/acoes-da-americanas-sobem-mais-de-18percent-apos-queda-historica-da-vespera.ghtml\n",
            "economia Executivos da Americanas venderam quase R$ 212 milhões em ações da empresa no 2º semestre de 2022 01/13/2023 https://g1.globo.com/economia/noticia/2023/01/13/executivos-da-americanas-venderam-quase-r-212-milhoes-em-acoes-da-empresa-no-2o-semestre-de-2022.ghtml\n",
            "economia PIB do Reino Unido sobe ligeiramente em novembro 01/13/2023 https://g1.globo.com/economia/noticia/2023/01/13/pib-do-reino-unido-sobe-ligeiramente-em-novembro.ghtml\n",
            "economia Contadores debatem como problemas na Americanas atingiram R$ 20 bilhões 01/13/2023 https://g1.globo.com/economia/noticia/2023/01/13/contadores-debatem-como-problemas-na-americanas-atingiram-r-20-bilhoes.ghtml\n",
            "economia Ibovespa fecha em queda e volta aos 110 mil pontos 01/13/2023 https://g1.globo.com/economia/noticia/2023/01/13/ibovespa.ghtml\n",
            "economia Economia alemã fica estagnada no 4º tri e escapa de recessão por enquanto 01/13/2023 https://g1.globo.com/economia/noticia/2023/01/13/economia-alema-fica-estagnada-no-4o-tri-e-escapa-de-recessao-por-enquanto.ghtml\n",
            "economia Pode faltar ovo no Brasil? Entenda a escassez em diversos países do mundo 01/13/2023 https://g1.globo.com/economia/agronegocios/noticia/2023/01/13/pode-faltar-ovo-no-brasil-entenda-a-escassez-em-diversos-paises-do-mundo.ghtml\n",
            "economia Petrobras recebe indicação formal de Prates para CEO e membro do conselho 01/13/2023 https://g1.globo.com/economia/noticia/2023/01/13/petrobras-recebe-indicacao-formal-de-prates-para-ceo-e-membro-do-conselho.ghtml\n",
            "economia 'Prévia' do PIB recua 0,55% em novembro, informa Banco Central; é a 4ª queda mensal seguida 01/13/2023 https://g1.globo.com/economia/noticia/2023/01/13/na-4a-queda-mensal-seguida-previa-do-pib-do-banco-central-recua-055percent-em-novembro.ghtml\n",
            "economia Dólar sobe nesta sexta, mas encerra semana em queda de 2,47%, a R$ 5,11 01/13/2023 https://g1.globo.com/economia/noticia/2023/01/13/dolar.ghtml\n",
            "economia Produção industrial cai, em novembro, em 6 dos 15 locais pesquisados, aponta IBGE 01/13/2023 https://g1.globo.com/economia/noticia/2023/01/13/producao-industrial-cai-em-novembro-em-6-dos-15-locais-pesquisados-aponta-ibge.ghtml\n",
            "economia Jorge Paulo Lemann, o homem mais rico do Brasil, perde US$ 329 milhões em um dia com ações da Americanas 01/13/2023 https://g1.globo.com/economia/noticia/2023/01/13/jorge-paulo-lemann-o-homem-mais-rico-do-brasil-perde-us-329-milhoes-em-um-dia-com-acoes-da-americanas.ghtml\n",
            "economia James Webb: supertelescópio captura imagens de fábrica de estrelas 01/13/2023 https://g1.globo.com/ciencia/noticia/2023/01/13/james-webb-supertelescopio-captura-imagens-de-fabrica-de-estrelas.ghtml\n",
            "economia Inflação de quase 100%: preços praticamente dobraram na Argentina em 2022 01/13/2023 https://g1.globo.com/economia/noticia/2023/01/13/inflacao-de-quase-100percent-precos-praticamente-dobraram-na-argentina-em-2022.ghtml\n",
            "economia Confira vagas de emprego disponíveis em Caruaru e região nesta sexta-feira (13) 01/13/2023 https://g1.globo.com/pe/caruaru-regiao/noticia/2023/01/13/confira-vagas-de-emprego-disponiveis-em-caruaru-e-regiao-nesta-sexta-feira-13.ghtml\n",
            "economia Abono salarial, CadÚnico, seguro-desemprego: veja o que muda com o salário mínimo de R$ 1.302 01/13/2023 https://g1.globo.com/economia/noticia/2023/01/13/abono-salarial-cadunico-seguro-desemprego-veja-o-que-muda-com-o-salario-minimo-de-r-1302.ghtml\n",
            "economia Tesla reduz preços de veículos nos EUA e Europa em até 20% 01/13/2023 https://g1.globo.com/economia/noticia/2023/01/13/telsa-precos-eua-europa.ghtml\n",
            "economia Veja as vagas de emprego disponíveis em Petrolina, Salgueiro e Araripina nesta sexta-feira (13) 01/13/2023 https://g1.globo.com/pe/petrolina-regiao/noticia/2023/01/13/veja-as-vagas-de-emprego-disponiveis-em-petrolina-salgueiro-e-araripina-nesta-sexta-feira-13.ghtml\n",
            "economia O que são as pastagens degradadas cuja recuperação é considerada como meta por Lula 01/13/2023 https://g1.globo.com/economia/agronegocios/noticia/2023/01/13/o-que-sao-as-pastagens-degradadas-cuja-recuperacao-e-considerada-como-meta-por-lula.ghtml\n",
            "economia 'Sobe e desce' do Ibovespa: entenda a dinâmica da bolsa de valores e como funcionam os pregões 01/13/2023 https://g1.globo.com/economia/noticia/2023/01/13/sobe-e-desce-do-ibovespa-entenda-a-dinamica-da-bolsa-de-valores-e-como-funcionam-os-pregoes.ghtml\n",
            "economia De lojinha de rua a império varejista: veja histórico da Americanas no país 01/13/2023 https://g1.globo.com/economia/noticia/2023/01/13/de-lojinha-de-rua-a-imperio-varejista-veja-historico-da-americanas-no-pais.ghtml\n",
            "economia Americanas tem a maior queda de uma empresa na bolsa brasileira desde 2008 01/12/2023 https://g1.globo.com/economia/noticia/2023/01/12/americanas-tem-a-maior-queda-de-uma-empresa-de-capital-aberto-desde-2008.ghtml\n",
            "economia Haddad apresenta medidas para reduzir rombo nas contas públicas 01/12/2023 https://g1.globo.com/politica/ao-vivo/governo-pacote-economia-rombo-contas-publicas.ghtml\n",
            "economia 'Gestão pelo medo na Caixa acabou', diz Rita Serrano ao tomar posse como presidente da Caixa 01/12/2023 https://g1.globo.com/economia/noticia/2023/01/12/com-presenca-de-lula-rita-serrano-toma-posse-como-presidente-da-caixa.ghtml\n",
            "economia Inventários Extrajudiciais estão mais caros no Rio? Novos critérios da portaria CGJ/RJ 1.952/2022 01/14/2023 https://www.jornalcontabil.com.br/extrajudiciais-estao-mais-caros-no-rio-novos-criterios-da-portaria-cgj-rj-1-952-2022/\n",
            "economia Vender pela Internet: Saiba como começar seu negócio! 01/14/2023 https://www.jornalcontabil.com.br/vender-pela-internet-saiba-como-comecar-seu-negocio/\n",
            "economia Invasão em Brasília, rombo da Americanas e liberdade de Suzane Richthofen marcam a semana<br /> 01/14/2023 http://noticias.r7.com/economia/fotos/invasao-em-brasilia-rombo-da-americanas-e-liberdade-de-suzane-richthofen-marcam-a-semana-14012023\n",
            "economia Volta de imposto federal sobre os combustíveis terá pouco efeito na inflação 01/14/2023 http://noticias.r7.com/economia/volta-de-imposto-federal-sobre-os-combustiveis-tera-pouco-efeito-na-inflacao-14012023\n",
            "economia Mega-Sena acumulada pode pagar R$ 33 milhões neste sábado 01/14/2023 http://noticias.r7.com/economia/mega-sena-acumulada-pode-pagar-r-33-milhoes-neste-sabado-14012023\n",
            "economia Veja quem tem direito a adicional de 25% na aposentadoria 01/14/2023 https://www.jornalcontabil.com.br/veja-quem-tem-direito-a-adicional-de-25-na-aposentadoria/\n",
            "economia INSS: Aposentados que ganham o salário mínimo terão aumento percentual maior do que os que ganham acima do piso 01/14/2023 https://www.mixvale.com.br/2023/01/14/inss-aposentados-que-ganham-o-salario-minimo-terao-aumento-percentual-maior-do-que-os-que-ganham-acima-do-piso/\n",
            "economia Caixa suspende crédito consignado para beneficiários do Bolsa Família 01/13/2023 https://www.jornalcontabil.com.br/caixa-suspende-credito-consignado-para-beneficiarios-do-bolsa-familia/\n",
            "economia Quem pode receber o Benefício de Prestação Continuada? 01/13/2023 https://www.jornalcontabil.com.br/quem-pode-receber-o-beneficio-de-prestacao-continuada/\n",
            "economia Moeda comum do Mercosul: Faz sentido Brasil apostar nessa política? 01/13/2023 https://br.investing.com/analysis/moeda-comum-do-mercosul-faz-sentido-brasil-apostar-nessa-politica-200454591\n",
            "economia Dólar fechando a semana em queda 01/13/2023 https://br.investing.com/analysis/dolar-fechando-a-semana-em-queda-200454570\n",
            "economia Após reação positiva sobre responsabilidade fiscal, hoje o foco é inflação nos EUA 01/12/2023 https://br.investing.com/analysis/apos-reacao-positiva-sobre-responsabilidade-fiscal-hoje-o-foco-e-inflacao-nos-eua-200454536\n",
            "economia Perspectivas para a trajetória do dólar em 2023 01/11/2023 https://br.investing.com/analysis/perspectivas-para-a-trajetoria-do-dolar-em-2023-200454533\n",
            "economia Preparativos para o dólar antes dos dados de inflação dos EUA 01/11/2023 https://br.investing.com/analysis/preparativos-para-o-dolar-antes-dos-dados-de-inflacao-dos-eua-200454531\n",
            "economia Câmbio: Após queda do real, Brasil deve focar no fiscal 01/11/2023 https://br.investing.com/analysis/cambio-apos-queda-do-real-brasil-deve-focar-no-fiscal-200454505\n",
            "economia Offshore: o que é e quando considerar essa alternativa? 01/10/2023 https://br.investing.com/analysis/offshore-o-que-e-e-quando-considerar-essa-alternativa-200454503\n",
            "economia Dólar: Dia sem novidades no câmbio 01/10/2023 https://br.investing.com/analysis/dia-sem-novidades-no-cambio-200454483\n",
            "economia Dólar: Invasão aos poderes em Brasília terá efeito no câmbio 01/09/2023 https://br.investing.com/analysis/invasao-aos-poderes-em-brasilia-tera-efeito-no-cambio-200454455\n",
            "economia Dólar: Em dia de Payroll, foco aqui ainda é o fiscal 01/06/2023 https://br.investing.com/analysis/em-dia-de-payroll-foco-aqui-ainda-e-o-fiscal-200454419\n",
            "economia É um bom momento para enviar dinheiro para fora? 01/13/2023 https://br.investing.com/analysis/-um-bom-momento-para-enviar-dinheiro-para-fora-200454592\n",
            "economia Ecos da semana: rumo a uma boa janela (de curto prazo) para emergentes? 01/13/2023 https://br.investing.com/analysis/ecos-da-semana-rumo-a-uma-boa-janela-de-curto-prazo-para-emergentes-200454589\n",
            "economia O comportamento do mercado financeiro e o ruído informacional 01/13/2023 https://br.investing.com/analysis/o-comportamento-do-mercado-financeiro-e-o-ruido-informacional-200454561\n",
            "economia Temporada de Balanços Inicia. Plano Fraco de Haddad. Aberturas Sem Rumo; Dólar Cai 01/13/2023 https://br.investing.com/analysis/temporada-de-balancos-inicia-plano-fraco-de-haddad-aberturas-sem-rumo-dolar-cai-200454580\n",
            "economia Começa hoje a temporada de balanço pelos bancões americanos 01/13/2023 https://br.investing.com/analysis/comeca-hoje-a-temporada-de-balanco-pelos-bancoes-americanos-200454578\n",
            "economia BDT 13/1 - Sexta 13 ! O dia após a derrocada de Americanas ! 01/13/2023 https://br.investing.com/analysis/bdt-131--sexta-13--o-dia-apos-a-derrocada-de-americanas--200454577\n",
            "economia Mercado aguarda ansioso os dados de Inflação dos EUA 01/12/2023 https://br.investing.com/analysis/mercado-aguarda-ansioso-os-dados-de-inflacao-dos-eua-200454546\n",
            "economia CPI, Impostos e LAME, Preparem-se para o Impacto. Aberturas Positivas, Dólar Cai 01/12/2023 https://br.investing.com/analysis/cpi-impostos-e-lame-preparemse-para-o-impacto-aberturas-positivas-dolar-cai-200454549\n",
            "economia Todos os holofotes se voltam para o aguardado CPI dos EUA nesta quinta-feira 01/12/2023 https://br.investing.com/analysis/todos-os-holofotes-se-voltam-para-o-aguardado-cpi-dos-eua-nesta-quintafeira-200454548\n",
            "economia BDT 12/1 - IPC americano, Haddad, rombo contábil nas Americanas ! 01/12/2023 https://br.investing.com/analysis/bdt-121--ipc-americano-haddad-rombo-contabil-nas-americanas--200454544\n",
            "turismo Para onde viajar em 2023: Brasil emplaca 2 destinos em ranking mundial do 'New York Times' 01/13/2023 https://g1.globo.com/turismo-e-viagem/noticia/2023/01/13/melhores-lugares-para-turismo-em-2023-lencois-maranhenses-e-manaus-estao-na-lista-do-the-new-york-times.ghtml\n",
            "turismo Saiba quais são os passaportes mais poderosos do mundo em 2023; Brasil aparece na 20ª posição 01/12/2023 https://g1.globo.com/turismo-e-viagem/noticia/2023/01/12/saiba-quais-sao-os-passaportes-mais-poderosos-do-mundo-em-2023-brasil-aparece-na-20a-posicao.ghtml\n",
            "turismo Conhecida pelas imagens eróticas, 'Capela Sistina da Pompeia' reabre para o público após 20 anos 01/11/2023 https://g1.globo.com/turismo-e-viagem/noticia/2023/01/11/conhecida-pelas-imagens-eroticas-capela-sistina-da-pompeia-reabre-para-o-publico-apos-20-anos.ghtml\n",
            "turismo O futuro incerto dos elefantes treinados para entreter turistas na Tailândia 01/06/2023 https://g1.globo.com/turismo-e-viagem/noticia/2023/01/06/o-futuro-incerto-dos-elefantes-treinados-para-entreter-turistas-na-tailandia.ghtml\n",
            "turismo SC possui 3 praias de naturismo, o maior número do país; conheça 01/06/2023 https://g1.globo.com/sc/santa-catarina/noticia/2023/01/06/sc-possui-3-praias-de-nudismo-o-maior-numero-do-pais-conheca.ghtml\n",
            "turismo Falta de neve para esqui na Europa, compensada com neve artificial, é novo alerta da crise climática 01/06/2023 https://g1.globo.com/mundo/noticia/2023/01/06/falta-de-neve-para-esqui-na-europa-compensada-com-neve-artificial-e-novo-alerta-da-crise-climatica.ghtml\n",
            "turismo Palácio de Buckingham; Cristo Redentor; Louvre: os pontos turísticos mais buscados no Google em 2022 01/03/2023 https://g1.globo.com/turismo-e-viagem/noticia/2023/01/03/palacio-de-buckingham-cristo-redentor-louvre-os-pontos-turisticos-mais-buscados-no-google-em-2022.ghtml\n",
            "turismo Parques naturais do ES contam com trilhas e mirantes; conheça os principais 01/03/2023 https://g1.globo.com/es/espirito-santo/noticia/2023/01/03/parques-naturais-do-es-contam-com-trilhas-e-mirantes-conheca-os-principais.ghtml\n",
            "turismo Queda de energia cancela voos em aeroporto das Filipinas e causa aglomeração no salão principal 01/02/2023 https://g1.globo.com/mundo/noticia/2023/01/02/queda-de-energia-cancela-voos-em-aeroporto-das-filipinas-e-causa-aglomeracao-no-salao-principal.ghtml\n",
            "turismo As melhores praias, lagoas e cachoeiras do ES para aproveitar os dias quentes do verão 12/30/2022 https://g1.globo.com/es/espirito-santo/noticia/2022/12/30/as-melhores-praias-lagoas-e-cachoeiras-do-es-para-aproveitar-os-dias-quentes-do-verao.ghtml\n",
            "turismo Principais pontos turísticos de Vitória: conheça praias, parques e museus na capital do ES 12/29/2022 https://g1.globo.com/es/espirito-santo/noticia/2022/12/29/principais-pontos-turisticos-de-vitoria.ghtml\n",
            "turismo Conheça os principais pontos turísticos de Cariacica e Serra, no ES 12/28/2022 https://g1.globo.com/es/espirito-santo/noticia/2022/12/28/pontos-turisticos-de-cariacica-e-serra-es.ghtml\n",
            "turismo Por que Nova York está 'esvaziando'? 12/28/2022 https://g1.globo.com/mundo/noticia/2022/12/28/por-que-nova-york-esta-esvaziando.ghtml\n",
            "turismo Conheça os pontos turísticos mais famosos de Vila Velha, no ES 12/27/2022 https://g1.globo.com/es/espirito-santo/noticia/2022/12/27/pontos-turisticos-mais-famosos-de-vila-velha-es.ghtml\n",
            "turismo Chineses fazem planos de viagem após Pequim eliminar mais restrições contra Covid 12/27/2022 https://g1.globo.com/turismo-e-viagem/noticia/2022/12/27/chineses-fazem-planos-de-viagem-apos-pequim-eliminar-mais-restricoes-contra-covid.ghtml\n",
            "turismo Renovação de visto americano de turismo e negócios tem queda no tempo de espera 12/27/2022 https://g1.globo.com/turismo-e-viagem/noticia/2022/12/27/renovacao-de-visto-americano-de-turismo-e-negocios-tem-queda-no-tempo-de-espera-para-entrevista.ghtml\n",
            "turismo Covid: após 3 anos, China acaba com quarentena para viajantes em meio a onda da doença 12/27/2022 https://g1.globo.com/mundo/noticia/2022/12/27/covid-apos-3-anos-china-acaba-com-quarentena-para-viajantes-em-meio-a-onda-da-doenca.ghtml\n",
            "turismo Por que você deve tirar fotos da sua mala nas viagens; confira 5 dicas 12/27/2022 https://g1.globo.com/turismo-e-viagem/noticia/2022/12/27/por-que-voce-deve-tirar-fotos-da-sua-mala-nas-viagens-confira-5-dicas.ghtml\n",
            "turismo Pontos culturais e históricos para conhecer no ES 12/26/2022 https://g1.globo.com/es/espirito-santo/post/2022/12/26/pontos-culturais-e-historicos-que-valem-a-pena-conhecer-no-es.ghtml\n",
            "turismo Florianópolis é a cidade brasileira mais procurada para hospedagem em 2023, aponta ranking do Airbnb 12/26/2022 https://g1.globo.com/sc/santa-catarina/noticia/2022/12/26/florianopolis-e-a-cidade-brasileira-mais-procurada-para-hospedagem-em-2023-aponta-ranking-do-airbnb.ghtml\n",
            "turismo Companhias aéreas cancelam mais de 2 mil voos nos EUA neste sábado por tempestade de inverno 12/24/2022 https://g1.globo.com/mundo/noticia/2022/12/24/companhias-aereas-cancelam-2-mil-voos-nos-eua-neste-sabado-por-tempestade-de-inverno.ghtml\n",
            "turismo Após envio de verba para a PF, ministro da Justiça diz que confecção de passaportes foi retomada 12/24/2022 https://g1.globo.com/politica/noticia/2022/12/24/apos-envio-de-verba-para-a-pf-m-doa-justica-diz-que-confeccao-de-passaportes-foi-retomada.ghtml\n",
            "turismo Fila para emissão do passaporte tem 100 mil pessoas, diz Polícia Federal 12/21/2022 https://g1.globo.com/turismo-e-viagem/noticia/2022/12/21/fila-para-emissao-do-passaporte-tem-100-mil-pessoas-diz-policia-federal.ghtml\n",
            "turismo Turistas enfrentam frio para encontrar Papai Noel na Torre Eiffel 12/21/2022 https://g1.globo.com/turismo-e-viagem/noticia/2022/12/21/turistas-enfrentam-frio-para-encontrar-papai-noel-na-torre-eiffel.ghtml\n",
            "turismo Feriados prolongados de 2023: veja dicas para programar viagens de até 4 dias 12/21/2022 https://g1.globo.com/turismo-e-viagem/noticia/2022/12/21/feriados-prolongados-de-2023-veja-dicas-para-programar-viagens-de-ate-4-dias.ghtml\n",
            "turismo Guia de praias: saiba quais os melhores pontos da orla de Salvador para diversas atividades no verão 12/21/2022 https://g1.globo.com/ba/bahia/verao/noticia/2022/12/21/guia-de-praias-saiba-quais-os-melhores-pontos-da-orla-de-salvador-para-diversas-atividades-no-verao.ghtml\n",
            "turismo Saiba o que esperar do verão 2023 em Salvador; estação mais quente do ano começa nesta quarta-feira 12/21/2022 https://g1.globo.com/ba/bahia/verao/noticia/2022/12/21/saiba-o-que-esperar-do-verao-2023-em-salvador-estacao-mais-quente-do-ano-comeca-nesta-quarta-feira.ghtml\n",
            "turismo Justiça de SP determina que Qatar Airways pague tratamento psicológico para vítima de gordofobia no Líbano 12/20/2022 https://g1.globo.com/sp/sao-paulo/noticia/2022/12/20/justica-de-sp-determina-que-qatar-airways-pague-tratamento-psicologico-para-vitima-de-gordofobia-no-libano.ghtml\n",
            "turismo Voo atrasado ou cancelado? Saiba quais são os direitos dos passageiros 12/19/2022 https://g1.globo.com/turismo-e-viagem/noticia/2022/12/19/voo-atrasado-ou-cancelado-saiba-quais-sao-os-direitos-dos-passageiros.ghtml\n",
            "turismo México transforma antiga colônia penal em destino turístico 12/17/2022 https://g1.globo.com/turismo-e-viagem/noticia/2022/12/17/mexico-transforma-antiga-colonia-penal-em-destino-turistico.ghtml\n",
            "turismo Veja os destinos turísticos mais superestimados e subestimados no mundo 12/17/2022 https://g1.globo.com/turismo-e-viagem/noticia/2022/12/17/veja-os-destinos-turisticos-mais-superestimados-e-subestimados-no-mundo.ghtml\n",
            "turismo TST determina manutenção de 90% de atividade em caso de greve dos aeronautas 12/17/2022 https://g1.globo.com/politica/noticia/2022/12/16/tst-determina-manutencao-de-90percent-de-atividade-em-caso-de-greve-nos-aeroportos.ghtml\n",
            "turismo Os 10 destinos que bombaram em buscas no Brasil em 2022, segundo o Google 12/16/2022 https://g1.globo.com/turismo-e-viagem/noticia/2022/12/16/os-10-destinos-que-bombaram-em-buscas-no-brasil-em-2022-segundo-o-google.ghtml\n",
            "turismo Como Reino Unido quer acabar com restrição a líquidos em bagagem de mão nos aviões em 2024 12/15/2022 https://g1.globo.com/turismo-e-viagem/noticia/2022/12/15/como-reino-unido-quer-acabar-com-restricao-a-liquidos-em-bagagem-de-mao-nos-avioes-em-2024.ghtml\n",
            "turismo Anac estuda medidas para 'enquadrar' passageiros indisciplinados 12/14/2022 https://g1.globo.com/economia/noticia/2022/12/14/anac-estuda-medidas-para-enquadrar-passageiros-indisciplinados.ghtml\n",
            "turismo Conheça as oito praias oficiais de nudismo no Brasil 12/13/2022 https://g1.globo.com/turismo-e-viagem/stories/2022/12/13/conheca-as-oito-praias-oficiais-de-nudismo-no-brasil.ghtml\n",
            "turismo Lei que proíbe sexo fora do casamento 'não vale para turistas', diz Indonésia 12/13/2022 https://g1.globo.com/turismo-e-viagem/noticia/2022/12/13/lei-que-proibe-sexo-fora-do-casamento-nao-vale-para-turistas-diz-indonesia.ghtml\n",
            "turismo Guia dos mochileiros: com quase 30 países visitados, casal dá dicas para conhecer o mundo gastando pouco; ASSISTA 12/11/2022 https://g1.globo.com/mg/triangulo-mineiro/noticia/2022/12/11/guia-dos-mochileiros-com-quase-30-paises-visitados-casal-da-dicas-para-conhecer-o-mundo-gastando-pouco-assista.ghtml\n",
            "turismo As misteriosas inscrições vikings em vilarejo remoto no centro-sul dos EUA 12/10/2022 https://g1.globo.com/mundo/noticia/2022/12/10/as-misteriosas-inscricoes-vikings-em-vilarejo-remoto-no-centro-sul-dos-eua.ghtml\n",
            "turismo Passaporte dos Emirados Árabes Unidos é o mais poderoso do mundo; brasileiro fica na 45ª posição em ranking 12/09/2022 https://g1.globo.com/turismo-e-viagem/noticia/2022/12/09/passaporte-dos-emirados-arabes-unidos-e-o-mais-poderoso-do-mundo-brasileiro-fica-na-45a-posicao-em-ranking.ghtml\n",
            "turismo Saiba o que é preciso para trabalhar nos parques da Disney dos EUA 01/13/2023 http://lifestyle.r7.com/viagens/saiba-o-que-e-preciso-para-trabalhar-nos-parques-da-disney-dos-eua-13012023\n",
            "turismo Cânion Pirituba: Como chegar e atrações 01/12/2023 https://www.viagensecaminhos.com/2023/01/canion-pirituba.html\n",
            "turismo Parque das Cachoeiras – Vacaria (Vera Tormenta) 01/09/2023 https://www.viagensecaminhos.com/2023/01/parque-das-cachoeiras-vacaria.html\n",
            "turismo Conheça um complexo aquático e hotel ao estilo europeu em Gramado (RS) 01/07/2023 http://lifestyle.r7.com/viagens/videos/conheca-um-complexo-aquatico-e-hotel-ao-estilo-europeu-em-gramado-rs-07012023\n",
            "turismo Cesar Filho e Elaine Mickely curtem férias dos sonhos com os filhos em Nova York<br /> 01/06/2023 http://lifestyle.r7.com/viagens/fotos/cesar-filho-e-elaine-mickely-curtem-ferias-dos-sonhos-com-os-filhos-em-nova-york-06012023\n",
            "turismo Por que os brasileiros estão se mudando para a Argentina? 01/05/2023 https://falauniversidades.com.br/brasileiros-na-argentina/\n",
            "turismo Cairo, Egito: O que fazer além das pirâmides 01/04/2023 https://www.viagensecaminhos.com/2023/01/cairo-egito.html\n",
            "turismo 5 formas de fazer intercâmbio de graça 12/29/2022 https://falauniversidades.com.br/formas-de-fazer-intercambio-de-graca/\n",
            "turismo Pamukkale, Turquia: Castelo de Algodão e Hierápolis 12/29/2022 https://www.viagensecaminhos.com/2022/12/pamukkale-turquia.html\n"
          ]
        }
      ]
    }
  ]
}